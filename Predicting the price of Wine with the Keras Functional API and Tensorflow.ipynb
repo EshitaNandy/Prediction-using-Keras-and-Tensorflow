{
 "cells": [
  {
   "cell_type": "markdown",
   "metadata": {},
   "source": [
    "## Problem Statement:\n",
    "\n",
    "# \"Predicting the price of Wine with the Keras Functional API and Tensorflow\"\n",
    "\n",
    "- Building a wide and deep network using Keras (tf.Keras) to predict the price of wine from its description.\n",
    "- Dataset available at https://github.com/EshitaNandy/Prediction-using-Keras-and-Tensorflow/"
   ]
  },
  {
   "cell_type": "markdown",
   "metadata": {},
   "source": [
    "- The overall goal is to create a model that can identify the variety, winery and location of a wine based on a description.\n",
    "\n",
    "- Prerequisites : Jupyter Notebook, Pandas, Numpy, Scikitlearn and Keras (Tensorflow)"
   ]
  },
  {
   "cell_type": "markdown",
   "metadata": {},
   "source": [
    "## Here are all the imports that we will require to build this model."
   ]
  },
  {
   "cell_type": "code",
   "execution_count": 1,
   "metadata": {},
   "outputs": [],
   "source": [
    "from __future__ import absolute_import\n",
    "from __future__ import division\n",
    "from __future__ import print_function"
   ]
  },
  {
   "cell_type": "code",
   "execution_count": 2,
   "metadata": {},
   "outputs": [],
   "source": [
    "import itertools\n",
    "import os\n",
    "import pandas as pd\n",
    "import numpy as np\n",
    "import tensorflow as tf\n",
    "from tensorflow import keras\n",
    "layers = keras.layers"
   ]
  },
  {
   "cell_type": "code",
   "execution_count": 3,
   "metadata": {},
   "outputs": [
    {
     "name": "stdout",
     "output_type": "stream",
     "text": [
      "You have an IT job 2.1.0\n"
     ]
    }
   ],
   "source": [
    "## This code is for testing purpose of proper Tensorflow Execution\n",
    "print(\"You have an IT job\", tf.__version__)"
   ]
  },
  {
   "cell_type": "code",
   "execution_count": 4,
   "metadata": {},
   "outputs": [
    {
     "data": {
      "text/html": [
       "<div>\n",
       "<style scoped>\n",
       "    .dataframe tbody tr th:only-of-type {\n",
       "        vertical-align: middle;\n",
       "    }\n",
       "\n",
       "    .dataframe tbody tr th {\n",
       "        vertical-align: top;\n",
       "    }\n",
       "\n",
       "    .dataframe thead th {\n",
       "        text-align: right;\n",
       "    }\n",
       "</style>\n",
       "<table border=\"1\" class=\"dataframe\">\n",
       "  <thead>\n",
       "    <tr style=\"text-align: right;\">\n",
       "      <th></th>\n",
       "      <th>Unnamed: 0</th>\n",
       "      <th>country</th>\n",
       "      <th>description</th>\n",
       "      <th>designation</th>\n",
       "      <th>points</th>\n",
       "      <th>price</th>\n",
       "      <th>province</th>\n",
       "      <th>region_1</th>\n",
       "      <th>region_2</th>\n",
       "      <th>taster_name</th>\n",
       "      <th>taster_twitter_handle</th>\n",
       "      <th>title</th>\n",
       "      <th>variety</th>\n",
       "      <th>winery</th>\n",
       "    </tr>\n",
       "  </thead>\n",
       "  <tbody>\n",
       "    <tr>\n",
       "      <th>0</th>\n",
       "      <td>0</td>\n",
       "      <td>Italy</td>\n",
       "      <td>Aromas include tropical fruit, broom, brimston...</td>\n",
       "      <td>Vulkà Bianco</td>\n",
       "      <td>87</td>\n",
       "      <td>NaN</td>\n",
       "      <td>Sicily &amp; Sardinia</td>\n",
       "      <td>Etna</td>\n",
       "      <td>NaN</td>\n",
       "      <td>Kerin O’Keefe</td>\n",
       "      <td>@kerinokeefe</td>\n",
       "      <td>Nicosia 2013 Vulkà Bianco  (Etna)</td>\n",
       "      <td>White Blend</td>\n",
       "      <td>Nicosia</td>\n",
       "    </tr>\n",
       "    <tr>\n",
       "      <th>1</th>\n",
       "      <td>1</td>\n",
       "      <td>Portugal</td>\n",
       "      <td>This is ripe and fruity, a wine that is smooth...</td>\n",
       "      <td>Avidagos</td>\n",
       "      <td>87</td>\n",
       "      <td>15.0</td>\n",
       "      <td>Douro</td>\n",
       "      <td>NaN</td>\n",
       "      <td>NaN</td>\n",
       "      <td>Roger Voss</td>\n",
       "      <td>@vossroger</td>\n",
       "      <td>Quinta dos Avidagos 2011 Avidagos Red (Douro)</td>\n",
       "      <td>Portuguese Red</td>\n",
       "      <td>Quinta dos Avidagos</td>\n",
       "    </tr>\n",
       "    <tr>\n",
       "      <th>2</th>\n",
       "      <td>2</td>\n",
       "      <td>US</td>\n",
       "      <td>Tart and snappy, the flavors of lime flesh and...</td>\n",
       "      <td>NaN</td>\n",
       "      <td>87</td>\n",
       "      <td>14.0</td>\n",
       "      <td>Oregon</td>\n",
       "      <td>Willamette Valley</td>\n",
       "      <td>Willamette Valley</td>\n",
       "      <td>Paul Gregutt</td>\n",
       "      <td>@paulgwine</td>\n",
       "      <td>Rainstorm 2013 Pinot Gris (Willamette Valley)</td>\n",
       "      <td>Pinot Gris</td>\n",
       "      <td>Rainstorm</td>\n",
       "    </tr>\n",
       "    <tr>\n",
       "      <th>3</th>\n",
       "      <td>3</td>\n",
       "      <td>US</td>\n",
       "      <td>Pineapple rind, lemon pith and orange blossom ...</td>\n",
       "      <td>Reserve Late Harvest</td>\n",
       "      <td>87</td>\n",
       "      <td>13.0</td>\n",
       "      <td>Michigan</td>\n",
       "      <td>Lake Michigan Shore</td>\n",
       "      <td>NaN</td>\n",
       "      <td>Alexander Peartree</td>\n",
       "      <td>NaN</td>\n",
       "      <td>St. Julian 2013 Reserve Late Harvest Riesling ...</td>\n",
       "      <td>Riesling</td>\n",
       "      <td>St. Julian</td>\n",
       "    </tr>\n",
       "    <tr>\n",
       "      <th>4</th>\n",
       "      <td>4</td>\n",
       "      <td>US</td>\n",
       "      <td>Much like the regular bottling from 2012, this...</td>\n",
       "      <td>Vintner's Reserve Wild Child Block</td>\n",
       "      <td>87</td>\n",
       "      <td>65.0</td>\n",
       "      <td>Oregon</td>\n",
       "      <td>Willamette Valley</td>\n",
       "      <td>Willamette Valley</td>\n",
       "      <td>Paul Gregutt</td>\n",
       "      <td>@paulgwine</td>\n",
       "      <td>Sweet Cheeks 2012 Vintner's Reserve Wild Child...</td>\n",
       "      <td>Pinot Noir</td>\n",
       "      <td>Sweet Cheeks</td>\n",
       "    </tr>\n",
       "  </tbody>\n",
       "</table>\n",
       "</div>"
      ],
      "text/plain": [
       "   Unnamed: 0   country                                        description  \\\n",
       "0           0     Italy  Aromas include tropical fruit, broom, brimston...   \n",
       "1           1  Portugal  This is ripe and fruity, a wine that is smooth...   \n",
       "2           2        US  Tart and snappy, the flavors of lime flesh and...   \n",
       "3           3        US  Pineapple rind, lemon pith and orange blossom ...   \n",
       "4           4        US  Much like the regular bottling from 2012, this...   \n",
       "\n",
       "                          designation  points  price           province  \\\n",
       "0                        Vulkà Bianco      87    NaN  Sicily & Sardinia   \n",
       "1                            Avidagos      87   15.0              Douro   \n",
       "2                                 NaN      87   14.0             Oregon   \n",
       "3                Reserve Late Harvest      87   13.0           Michigan   \n",
       "4  Vintner's Reserve Wild Child Block      87   65.0             Oregon   \n",
       "\n",
       "              region_1           region_2         taster_name  \\\n",
       "0                 Etna                NaN       Kerin O’Keefe   \n",
       "1                  NaN                NaN          Roger Voss   \n",
       "2    Willamette Valley  Willamette Valley        Paul Gregutt   \n",
       "3  Lake Michigan Shore                NaN  Alexander Peartree   \n",
       "4    Willamette Valley  Willamette Valley        Paul Gregutt   \n",
       "\n",
       "  taster_twitter_handle                                              title  \\\n",
       "0          @kerinokeefe                  Nicosia 2013 Vulkà Bianco  (Etna)   \n",
       "1            @vossroger      Quinta dos Avidagos 2011 Avidagos Red (Douro)   \n",
       "2           @paulgwine       Rainstorm 2013 Pinot Gris (Willamette Valley)   \n",
       "3                   NaN  St. Julian 2013 Reserve Late Harvest Riesling ...   \n",
       "4           @paulgwine   Sweet Cheeks 2012 Vintner's Reserve Wild Child...   \n",
       "\n",
       "          variety               winery  \n",
       "0     White Blend              Nicosia  \n",
       "1  Portuguese Red  Quinta dos Avidagos  \n",
       "2      Pinot Gris            Rainstorm  \n",
       "3        Riesling           St. Julian  \n",
       "4      Pinot Noir         Sweet Cheeks  "
      ]
     },
     "execution_count": 4,
     "metadata": {},
     "output_type": "execute_result"
    }
   ],
   "source": [
    "data = pd.read_csv(r\"C:\\Users\\User\\Downloads\\KERAS PYTHON\\winemag-data-130k-v2.csv\")\n",
    "data.head()"
   ]
  },
  {
   "cell_type": "markdown",
   "metadata": {},
   "source": [
    "## Do some preprocessing to remove null values and drop unnecessary columns:"
   ]
  },
  {
   "cell_type": "code",
   "execution_count": 5,
   "metadata": {},
   "outputs": [
    {
     "data": {
      "text/html": [
       "<div>\n",
       "<style scoped>\n",
       "    .dataframe tbody tr th:only-of-type {\n",
       "        vertical-align: middle;\n",
       "    }\n",
       "\n",
       "    .dataframe tbody tr th {\n",
       "        vertical-align: top;\n",
       "    }\n",
       "\n",
       "    .dataframe thead th {\n",
       "        text-align: right;\n",
       "    }\n",
       "</style>\n",
       "<table border=\"1\" class=\"dataframe\">\n",
       "  <thead>\n",
       "    <tr style=\"text-align: right;\">\n",
       "      <th></th>\n",
       "      <th>country</th>\n",
       "      <th>description</th>\n",
       "      <th>designation</th>\n",
       "      <th>points</th>\n",
       "      <th>price</th>\n",
       "      <th>province</th>\n",
       "      <th>region_1</th>\n",
       "      <th>region_2</th>\n",
       "      <th>taster_name</th>\n",
       "      <th>taster_twitter_handle</th>\n",
       "      <th>title</th>\n",
       "      <th>variety</th>\n",
       "      <th>winery</th>\n",
       "    </tr>\n",
       "  </thead>\n",
       "  <tbody>\n",
       "    <tr>\n",
       "      <th>1</th>\n",
       "      <td>Portugal</td>\n",
       "      <td>This is ripe and fruity, a wine that is smooth...</td>\n",
       "      <td>Avidagos</td>\n",
       "      <td>87</td>\n",
       "      <td>15.0</td>\n",
       "      <td>Douro</td>\n",
       "      <td>NaN</td>\n",
       "      <td>NaN</td>\n",
       "      <td>Roger Voss</td>\n",
       "      <td>@vossroger</td>\n",
       "      <td>Quinta dos Avidagos 2011 Avidagos Red (Douro)</td>\n",
       "      <td>Portuguese Red</td>\n",
       "      <td>Quinta dos Avidagos</td>\n",
       "    </tr>\n",
       "    <tr>\n",
       "      <th>2</th>\n",
       "      <td>US</td>\n",
       "      <td>Tart and snappy, the flavors of lime flesh and...</td>\n",
       "      <td>NaN</td>\n",
       "      <td>87</td>\n",
       "      <td>14.0</td>\n",
       "      <td>Oregon</td>\n",
       "      <td>Willamette Valley</td>\n",
       "      <td>Willamette Valley</td>\n",
       "      <td>Paul Gregutt</td>\n",
       "      <td>@paulgwine</td>\n",
       "      <td>Rainstorm 2013 Pinot Gris (Willamette Valley)</td>\n",
       "      <td>Pinot Gris</td>\n",
       "      <td>Rainstorm</td>\n",
       "    </tr>\n",
       "    <tr>\n",
       "      <th>3</th>\n",
       "      <td>US</td>\n",
       "      <td>Pineapple rind, lemon pith and orange blossom ...</td>\n",
       "      <td>Reserve Late Harvest</td>\n",
       "      <td>87</td>\n",
       "      <td>13.0</td>\n",
       "      <td>Michigan</td>\n",
       "      <td>Lake Michigan Shore</td>\n",
       "      <td>NaN</td>\n",
       "      <td>Alexander Peartree</td>\n",
       "      <td>NaN</td>\n",
       "      <td>St. Julian 2013 Reserve Late Harvest Riesling ...</td>\n",
       "      <td>Riesling</td>\n",
       "      <td>St. Julian</td>\n",
       "    </tr>\n",
       "    <tr>\n",
       "      <th>4</th>\n",
       "      <td>US</td>\n",
       "      <td>Much like the regular bottling from 2012, this...</td>\n",
       "      <td>Vintner's Reserve Wild Child Block</td>\n",
       "      <td>87</td>\n",
       "      <td>65.0</td>\n",
       "      <td>Oregon</td>\n",
       "      <td>Willamette Valley</td>\n",
       "      <td>Willamette Valley</td>\n",
       "      <td>Paul Gregutt</td>\n",
       "      <td>@paulgwine</td>\n",
       "      <td>Sweet Cheeks 2012 Vintner's Reserve Wild Child...</td>\n",
       "      <td>Pinot Noir</td>\n",
       "      <td>Sweet Cheeks</td>\n",
       "    </tr>\n",
       "    <tr>\n",
       "      <th>5</th>\n",
       "      <td>Spain</td>\n",
       "      <td>Blackberry and raspberry aromas show a typical...</td>\n",
       "      <td>Ars In Vitro</td>\n",
       "      <td>87</td>\n",
       "      <td>15.0</td>\n",
       "      <td>Northern Spain</td>\n",
       "      <td>Navarra</td>\n",
       "      <td>NaN</td>\n",
       "      <td>Michael Schachner</td>\n",
       "      <td>@wineschach</td>\n",
       "      <td>Tandem 2011 Ars In Vitro Tempranillo-Merlot (N...</td>\n",
       "      <td>Tempranillo-Merlot</td>\n",
       "      <td>Tandem</td>\n",
       "    </tr>\n",
       "  </tbody>\n",
       "</table>\n",
       "</div>"
      ],
      "text/plain": [
       "    country                                        description  \\\n",
       "1  Portugal  This is ripe and fruity, a wine that is smooth...   \n",
       "2        US  Tart and snappy, the flavors of lime flesh and...   \n",
       "3        US  Pineapple rind, lemon pith and orange blossom ...   \n",
       "4        US  Much like the regular bottling from 2012, this...   \n",
       "5     Spain  Blackberry and raspberry aromas show a typical...   \n",
       "\n",
       "                          designation  points  price        province  \\\n",
       "1                            Avidagos      87   15.0           Douro   \n",
       "2                                 NaN      87   14.0          Oregon   \n",
       "3                Reserve Late Harvest      87   13.0        Michigan   \n",
       "4  Vintner's Reserve Wild Child Block      87   65.0          Oregon   \n",
       "5                        Ars In Vitro      87   15.0  Northern Spain   \n",
       "\n",
       "              region_1           region_2         taster_name  \\\n",
       "1                  NaN                NaN          Roger Voss   \n",
       "2    Willamette Valley  Willamette Valley        Paul Gregutt   \n",
       "3  Lake Michigan Shore                NaN  Alexander Peartree   \n",
       "4    Willamette Valley  Willamette Valley        Paul Gregutt   \n",
       "5              Navarra                NaN   Michael Schachner   \n",
       "\n",
       "  taster_twitter_handle                                              title  \\\n",
       "1            @vossroger      Quinta dos Avidagos 2011 Avidagos Red (Douro)   \n",
       "2           @paulgwine       Rainstorm 2013 Pinot Gris (Willamette Valley)   \n",
       "3                   NaN  St. Julian 2013 Reserve Late Harvest Riesling ...   \n",
       "4           @paulgwine   Sweet Cheeks 2012 Vintner's Reserve Wild Child...   \n",
       "5           @wineschach  Tandem 2011 Ars In Vitro Tempranillo-Merlot (N...   \n",
       "\n",
       "              variety               winery  \n",
       "1      Portuguese Red  Quinta dos Avidagos  \n",
       "2          Pinot Gris            Rainstorm  \n",
       "3            Riesling           St. Julian  \n",
       "4          Pinot Noir         Sweet Cheeks  \n",
       "5  Tempranillo-Merlot               Tandem  "
      ]
     },
     "execution_count": 5,
     "metadata": {},
     "output_type": "execute_result"
    }
   ],
   "source": [
    "data = data[pd.notnull(data['country'])]\n",
    "data = data[pd.notnull(data['price'])]\n",
    "data = data.drop(data.columns[0], axis =1)\n",
    "data.head()"
   ]
  },
  {
   "cell_type": "markdown",
   "metadata": {},
   "source": [
    "## Do some preprocessing to limit wine varieties in the dataset"
   ]
  },
  {
   "cell_type": "code",
   "execution_count": 6,
   "metadata": {},
   "outputs": [
    {
     "data": {
      "text/html": [
       "<div>\n",
       "<style scoped>\n",
       "    .dataframe tbody tr th:only-of-type {\n",
       "        vertical-align: middle;\n",
       "    }\n",
       "\n",
       "    .dataframe tbody tr th {\n",
       "        vertical-align: top;\n",
       "    }\n",
       "\n",
       "    .dataframe thead th {\n",
       "        text-align: right;\n",
       "    }\n",
       "</style>\n",
       "<table border=\"1\" class=\"dataframe\">\n",
       "  <thead>\n",
       "    <tr style=\"text-align: right;\">\n",
       "      <th></th>\n",
       "      <th>country</th>\n",
       "      <th>description</th>\n",
       "      <th>designation</th>\n",
       "      <th>points</th>\n",
       "      <th>price</th>\n",
       "      <th>province</th>\n",
       "      <th>region_1</th>\n",
       "      <th>region_2</th>\n",
       "      <th>taster_name</th>\n",
       "      <th>taster_twitter_handle</th>\n",
       "      <th>title</th>\n",
       "      <th>variety</th>\n",
       "      <th>winery</th>\n",
       "    </tr>\n",
       "  </thead>\n",
       "  <tbody>\n",
       "    <tr>\n",
       "      <th>1</th>\n",
       "      <td>Portugal</td>\n",
       "      <td>This is ripe and fruity, a wine that is smooth...</td>\n",
       "      <td>Avidagos</td>\n",
       "      <td>87</td>\n",
       "      <td>15.0</td>\n",
       "      <td>Douro</td>\n",
       "      <td>NaN</td>\n",
       "      <td>NaN</td>\n",
       "      <td>Roger Voss</td>\n",
       "      <td>@vossroger</td>\n",
       "      <td>Quinta dos Avidagos 2011 Avidagos Red (Douro)</td>\n",
       "      <td>Portuguese Red</td>\n",
       "      <td>Quinta dos Avidagos</td>\n",
       "    </tr>\n",
       "    <tr>\n",
       "      <th>2</th>\n",
       "      <td>US</td>\n",
       "      <td>Tart and snappy, the flavors of lime flesh and...</td>\n",
       "      <td>NaN</td>\n",
       "      <td>87</td>\n",
       "      <td>14.0</td>\n",
       "      <td>Oregon</td>\n",
       "      <td>Willamette Valley</td>\n",
       "      <td>Willamette Valley</td>\n",
       "      <td>Paul Gregutt</td>\n",
       "      <td>@paulgwine</td>\n",
       "      <td>Rainstorm 2013 Pinot Gris (Willamette Valley)</td>\n",
       "      <td>Pinot Gris</td>\n",
       "      <td>Rainstorm</td>\n",
       "    </tr>\n",
       "    <tr>\n",
       "      <th>3</th>\n",
       "      <td>US</td>\n",
       "      <td>Pineapple rind, lemon pith and orange blossom ...</td>\n",
       "      <td>Reserve Late Harvest</td>\n",
       "      <td>87</td>\n",
       "      <td>13.0</td>\n",
       "      <td>Michigan</td>\n",
       "      <td>Lake Michigan Shore</td>\n",
       "      <td>NaN</td>\n",
       "      <td>Alexander Peartree</td>\n",
       "      <td>NaN</td>\n",
       "      <td>St. Julian 2013 Reserve Late Harvest Riesling ...</td>\n",
       "      <td>Riesling</td>\n",
       "      <td>St. Julian</td>\n",
       "    </tr>\n",
       "    <tr>\n",
       "      <th>4</th>\n",
       "      <td>US</td>\n",
       "      <td>Much like the regular bottling from 2012, this...</td>\n",
       "      <td>Vintner's Reserve Wild Child Block</td>\n",
       "      <td>87</td>\n",
       "      <td>65.0</td>\n",
       "      <td>Oregon</td>\n",
       "      <td>Willamette Valley</td>\n",
       "      <td>Willamette Valley</td>\n",
       "      <td>Paul Gregutt</td>\n",
       "      <td>@paulgwine</td>\n",
       "      <td>Sweet Cheeks 2012 Vintner's Reserve Wild Child...</td>\n",
       "      <td>Pinot Noir</td>\n",
       "      <td>Sweet Cheeks</td>\n",
       "    </tr>\n",
       "    <tr>\n",
       "      <th>7</th>\n",
       "      <td>France</td>\n",
       "      <td>This dry and restrained wine offers spice in p...</td>\n",
       "      <td>NaN</td>\n",
       "      <td>87</td>\n",
       "      <td>24.0</td>\n",
       "      <td>Alsace</td>\n",
       "      <td>Alsace</td>\n",
       "      <td>NaN</td>\n",
       "      <td>Roger Voss</td>\n",
       "      <td>@vossroger</td>\n",
       "      <td>Trimbach 2012 Gewurztraminer (Alsace)</td>\n",
       "      <td>Gewürztraminer</td>\n",
       "      <td>Trimbach</td>\n",
       "    </tr>\n",
       "  </tbody>\n",
       "</table>\n",
       "</div>"
      ],
      "text/plain": [
       "    country                                        description  \\\n",
       "1  Portugal  This is ripe and fruity, a wine that is smooth...   \n",
       "2        US  Tart and snappy, the flavors of lime flesh and...   \n",
       "3        US  Pineapple rind, lemon pith and orange blossom ...   \n",
       "4        US  Much like the regular bottling from 2012, this...   \n",
       "7    France  This dry and restrained wine offers spice in p...   \n",
       "\n",
       "                          designation  points  price  province  \\\n",
       "1                            Avidagos      87   15.0     Douro   \n",
       "2                                 NaN      87   14.0    Oregon   \n",
       "3                Reserve Late Harvest      87   13.0  Michigan   \n",
       "4  Vintner's Reserve Wild Child Block      87   65.0    Oregon   \n",
       "7                                 NaN      87   24.0    Alsace   \n",
       "\n",
       "              region_1           region_2         taster_name  \\\n",
       "1                  NaN                NaN          Roger Voss   \n",
       "2    Willamette Valley  Willamette Valley        Paul Gregutt   \n",
       "3  Lake Michigan Shore                NaN  Alexander Peartree   \n",
       "4    Willamette Valley  Willamette Valley        Paul Gregutt   \n",
       "7               Alsace                NaN          Roger Voss   \n",
       "\n",
       "  taster_twitter_handle                                              title  \\\n",
       "1            @vossroger      Quinta dos Avidagos 2011 Avidagos Red (Douro)   \n",
       "2           @paulgwine       Rainstorm 2013 Pinot Gris (Willamette Valley)   \n",
       "3                   NaN  St. Julian 2013 Reserve Late Harvest Riesling ...   \n",
       "4           @paulgwine   Sweet Cheeks 2012 Vintner's Reserve Wild Child...   \n",
       "7            @vossroger              Trimbach 2012 Gewurztraminer (Alsace)   \n",
       "\n",
       "          variety               winery  \n",
       "1  Portuguese Red  Quinta dos Avidagos  \n",
       "2      Pinot Gris            Rainstorm  \n",
       "3        Riesling           St. Julian  \n",
       "4      Pinot Noir         Sweet Cheeks  \n",
       "7  Gewürztraminer             Trimbach  "
      ]
     },
     "execution_count": 6,
     "metadata": {},
     "output_type": "execute_result"
    }
   ],
   "source": [
    "variety_threshold = 500 ## Anything that occurs less than this will be removed\n",
    "value_counts = data['variety'].value_counts()\n",
    "to_remove = value_counts[value_counts <= variety_threshold].index\n",
    "data.replace(to_remove,np.nan, inplace=True)\n",
    "data = data[pd.notnull(data['variety'])]\n",
    "data.head()"
   ]
  },
  {
   "cell_type": "markdown",
   "metadata": {},
   "source": [
    "## Split the Data into Training Dataset and Testing Dataset"
   ]
  },
  {
   "cell_type": "code",
   "execution_count": 7,
   "metadata": {},
   "outputs": [
    {
     "name": "stdout",
     "output_type": "stream",
     "text": [
      "Train size: 82431\n",
      "Train size: 20608\n"
     ]
    }
   ],
   "source": [
    "train_size = int(len(data)* 0.8)\n",
    "print(\"Train size: %d\" % train_size) \n",
    "print(\"Train size: %d\" % (len(data) - train_size))"
   ]
  },
  {
   "cell_type": "markdown",
   "metadata": {},
   "source": [
    "## Training and Testing on Features and Labels"
   ]
  },
  {
   "cell_type": "code",
   "execution_count": 8,
   "metadata": {},
   "outputs": [],
   "source": [
    "#Train Features\n",
    "description_train = data['description'][:train_size]\n",
    "variety_train = data['variety'][:train_size]\n",
    "\n",
    "#Train Labels\n",
    "labels_train = data['price'][:train_size]\n",
    "\n",
    "#Test Features\n",
    "description_test = data['description'][train_size:]\n",
    "variety_test = data['variety'][train_size:]\n",
    "\n",
    "#Test Labels\n",
    "labels_test = data['price'][train_size:]"
   ]
  },
  {
   "cell_type": "markdown",
   "metadata": {},
   "source": [
    "## Create a tokenizer to preprocess our text description."
   ]
  },
  {
   "cell_type": "code",
   "execution_count": 9,
   "metadata": {},
   "outputs": [],
   "source": [
    "vocab_size = 12000 # this is a hyperparameter\n",
    "tokenize = keras.preprocessing.text.Tokenizer(num_words=vocab_size, char_level=False)\n",
    "tokenize.fit_on_texts(description_train) # only fit on train"
   ]
  },
  {
   "cell_type": "markdown",
   "metadata": {},
   "source": [
    "## Wide Feature 1: sparse bag of words(bow) vocab_size vector"
   ]
  },
  {
   "cell_type": "code",
   "execution_count": 10,
   "metadata": {},
   "outputs": [],
   "source": [
    "description_bow_train = tokenize.texts_to_matrix(description_train)\n",
    "description_bow_test = tokenize.texts_to_matrix(description_test)"
   ]
  },
  {
   "cell_type": "markdown",
   "metadata": {},
   "source": [
    "## Wide Feature 2: one-hot vector of variety categories\n",
    "\n",
    "- Use sklearn utility to convert label strings to numbered index"
   ]
  },
  {
   "cell_type": "code",
   "execution_count": 11,
   "metadata": {},
   "outputs": [],
   "source": [
    "import sklearn\n",
    "from sklearn.preprocessing import LabelEncoder\n",
    "encoder = LabelEncoder()\n",
    "encoder.fit(variety_train)\n",
    "variety_train = encoder.transform(variety_train)\n",
    "variety_test = encoder.transform(variety_test)\n",
    "num_classes = np.max(variety_train)+1"
   ]
  },
  {
   "cell_type": "markdown",
   "metadata": {},
   "source": [
    "- Convert labels to one hot"
   ]
  },
  {
   "cell_type": "code",
   "execution_count": 12,
   "metadata": {},
   "outputs": [],
   "source": [
    "variety_train = keras.utils.to_categorical(variety_train, num_classes)\n",
    "variety_test = keras.utils.to_categorical(variety_test, num_classes)"
   ]
  },
  {
   "cell_type": "markdown",
   "metadata": {},
   "source": [
    "## Defining our wide model with the functional API"
   ]
  },
  {
   "cell_type": "code",
   "execution_count": 13,
   "metadata": {},
   "outputs": [],
   "source": [
    "bow_inputs = layers.Input(shape=(vocab_size,))\n",
    "variety_inputs = layers.Input(shape=(num_classes,))\n",
    "merged_layer = layers.concatenate([bow_inputs,variety_inputs])\n",
    "merged_layer = layers.Dense(256, activation='relu')(merged_layer)\n",
    "predictions = layers.Dense(1)(merged_layer)\n",
    "wide_model = keras.Model(inputs=[bow_inputs, variety_inputs], outputs=predictions)"
   ]
  },
  {
   "cell_type": "code",
   "execution_count": 14,
   "metadata": {},
   "outputs": [
    {
     "name": "stdout",
     "output_type": "stream",
     "text": [
      "Model: \"model\"\n",
      "__________________________________________________________________________________________________\n",
      "Layer (type)                    Output Shape         Param #     Connected to                     \n",
      "==================================================================================================\n",
      "input_1 (InputLayer)            [(None, 12000)]      0                                            \n",
      "__________________________________________________________________________________________________\n",
      "input_2 (InputLayer)            [(None, 38)]         0                                            \n",
      "__________________________________________________________________________________________________\n",
      "concatenate (Concatenate)       (None, 12038)        0           input_1[0][0]                    \n",
      "                                                                 input_2[0][0]                    \n",
      "__________________________________________________________________________________________________\n",
      "dense (Dense)                   (None, 256)          3081984     concatenate[0][0]                \n",
      "__________________________________________________________________________________________________\n",
      "dense_1 (Dense)                 (None, 1)            257         dense[0][0]                      \n",
      "==================================================================================================\n",
      "Total params: 3,082,241\n",
      "Trainable params: 3,082,241\n",
      "Non-trainable params: 0\n",
      "__________________________________________________________________________________________________\n",
      "None\n"
     ]
    }
   ],
   "source": [
    "wide_model.compile(loss='mse', optimizer='adam', metrics=['accuracy'])\n",
    "print(wide_model.summary())"
   ]
  },
  {
   "cell_type": "markdown",
   "metadata": {},
   "source": [
    "## Deep Model Feature : Word Embeddings of Wine Description."
   ]
  },
  {
   "cell_type": "code",
   "execution_count": 15,
   "metadata": {},
   "outputs": [],
   "source": [
    "train_embed = tokenize.texts_to_sequences(description_train)\n",
    "test_embed = tokenize.texts_to_sequences(description_test)\n",
    "max_seq_length = 170\n",
    "train_embed = keras.preprocessing.sequence.pad_sequences(\n",
    "    train_embed, maxlen=max_seq_length, padding=\"post\")\n",
    "test_embed = keras.preprocessing.sequence.pad_sequences(\n",
    "    test_embed, maxlen=max_seq_length, padding=\"post\")"
   ]
  },
  {
   "cell_type": "markdown",
   "metadata": {},
   "source": [
    "## Define our Deep Model with the Functional API"
   ]
  },
  {
   "cell_type": "code",
   "execution_count": 16,
   "metadata": {},
   "outputs": [
    {
     "name": "stdout",
     "output_type": "stream",
     "text": [
      "Model: \"model_1\"\n",
      "_________________________________________________________________\n",
      "Layer (type)                 Output Shape              Param #   \n",
      "=================================================================\n",
      "input_3 (InputLayer)         [(None, 170)]             0         \n",
      "_________________________________________________________________\n",
      "embedding (Embedding)        (None, 170, 8)            96000     \n",
      "_________________________________________________________________\n",
      "flatten (Flatten)            (None, 1360)              0         \n",
      "_________________________________________________________________\n",
      "dense_2 (Dense)              (None, 1)                 1361      \n",
      "=================================================================\n",
      "Total params: 97,361\n",
      "Trainable params: 97,361\n",
      "Non-trainable params: 0\n",
      "_________________________________________________________________\n",
      "None\n"
     ]
    }
   ],
   "source": [
    "deep_inputs = layers.Input(shape=(max_seq_length,))\n",
    "embedding = layers.Embedding(vocab_size, 8, input_length=max_seq_length)(deep_inputs)\n",
    "embedding = layers.Flatten()(embedding)\n",
    "embed_out = layers.Dense(1)(embedding)\n",
    "deep_model = keras.Model(inputs=deep_inputs, outputs = embed_out)\n",
    "print(deep_model.summary())"
   ]
  },
  {
   "cell_type": "code",
   "execution_count": 17,
   "metadata": {},
   "outputs": [],
   "source": [
    "deep_model.compile(loss='mse', optimizer='adam', metrics=['accuracy'])"
   ]
  },
  {
   "cell_type": "markdown",
   "metadata": {},
   "source": [
    "## Combine wide and deep into one model"
   ]
  },
  {
   "cell_type": "code",
   "execution_count": 18,
   "metadata": {},
   "outputs": [
    {
     "name": "stdout",
     "output_type": "stream",
     "text": [
      "Model: \"model_2\"\n",
      "__________________________________________________________________________________________________\n",
      "Layer (type)                    Output Shape         Param #     Connected to                     \n",
      "==================================================================================================\n",
      "input_1 (InputLayer)            [(None, 12000)]      0                                            \n",
      "__________________________________________________________________________________________________\n",
      "input_2 (InputLayer)            [(None, 38)]         0                                            \n",
      "__________________________________________________________________________________________________\n",
      "input_3 (InputLayer)            [(None, 170)]        0                                            \n",
      "__________________________________________________________________________________________________\n",
      "concatenate (Concatenate)       (None, 12038)        0           input_1[0][0]                    \n",
      "                                                                 input_2[0][0]                    \n",
      "__________________________________________________________________________________________________\n",
      "embedding (Embedding)           (None, 170, 8)       96000       input_3[0][0]                    \n",
      "__________________________________________________________________________________________________\n",
      "dense (Dense)                   (None, 256)          3081984     concatenate[0][0]                \n",
      "__________________________________________________________________________________________________\n",
      "flatten (Flatten)               (None, 1360)         0           embedding[0][0]                  \n",
      "__________________________________________________________________________________________________\n",
      "dense_1 (Dense)                 (None, 1)            257         dense[0][0]                      \n",
      "__________________________________________________________________________________________________\n",
      "dense_2 (Dense)                 (None, 1)            1361        flatten[0][0]                    \n",
      "__________________________________________________________________________________________________\n",
      "concatenate_1 (Concatenate)     (None, 2)            0           dense_1[0][0]                    \n",
      "                                                                 dense_2[0][0]                    \n",
      "__________________________________________________________________________________________________\n",
      "dense_3 (Dense)                 (None, 1)            3           concatenate_1[0][0]              \n",
      "==================================================================================================\n",
      "Total params: 3,179,605\n",
      "Trainable params: 3,179,605\n",
      "Non-trainable params: 0\n",
      "__________________________________________________________________________________________________\n",
      "None\n"
     ]
    }
   ],
   "source": [
    "merged_out = layers.concatenate([wide_model.output, deep_model.output])\n",
    "merged_out = layers.Dense(1)(merged_out)\n",
    "combined_model = keras.Model(wide_model.input + [deep_model.input], merged_out)\n",
    "combined_model.compile(loss='mse',optimizer='adam', metrics=['accuracy'])\n",
    "print(combined_model.summary())"
   ]
  },
  {
   "cell_type": "markdown",
   "metadata": {},
   "source": [
    "## Run Training"
   ]
  },
  {
   "cell_type": "code",
   "execution_count": 19,
   "metadata": {},
   "outputs": [
    {
     "name": "stdout",
     "output_type": "stream",
     "text": [
      "Train on 82431 samples\n",
      "Epoch 1/10\n",
      "82431/82431 [==============================] - 71s 861us/sample - loss: 1487.0239 - accuracy: 0.0000e+00\n",
      "Epoch 2/10\n",
      "82431/82431 [==============================] - 67s 818us/sample - loss: 1272.5073 - accuracy: 0.0000e+00\n",
      "Epoch 3/10\n",
      "82431/82431 [==============================] - 87s 1ms/sample - loss: 1168.8411 - accuracy: 0.0000e+00\n",
      "Epoch 4/10\n",
      "82431/82431 [==============================] - 76s 924us/sample - loss: 1069.7310 - accuracy: 0.0000e+00\n",
      "Epoch 5/10\n",
      "82431/82431 [==============================] - 62s 746us/sample - loss: 964.1559 - accuracy: 0.0000e+00\n",
      "Epoch 6/10\n",
      "82431/82431 [==============================] - 59s 715us/sample - loss: 855.4663 - accuracy: 0.0000e+00- loss: 827.7758 - accura\n",
      "Epoch 7/10\n",
      "82431/82431 [==============================] - 58s 707us/sample - loss: 748.1084 - accuracy: 0.0000e+00\n",
      "Epoch 8/10\n",
      "82431/82431 [==============================] - 60s 730us/sample - loss: 639.2863 - accuracy: 0.0000e+00\n",
      "Epoch 9/10\n",
      "82431/82431 [==============================] - 51s 614us/sample - loss: 540.9703 - accuracy: 0.0000e+00\n",
      "Epoch 10/10\n",
      "82431/82431 [==============================] - 53s 640us/sample - loss: 454.9728 - accuracy: 0.0000e+00\n",
      "20608/20608 [==============================] - 35s 2ms/sample - loss: 1461.2688 - accuracy: 0.0000e+00\n"
     ]
    },
    {
     "data": {
      "text/plain": [
       "[1461.2687954162218, 0.0]"
      ]
     },
     "execution_count": 19,
     "metadata": {},
     "output_type": "execute_result"
    }
   ],
   "source": [
    "# Training\n",
    "combined_model.fit([description_bow_train, variety_train] + [train_embed], labels_train, epochs=10, batch_size=128)\n",
    "\n",
    "# Evaluation\n",
    "combined_model.evaluate([description_bow_test, variety_test] + [test_embed], labels_test, batch_size=128)"
   ]
  },
  {
   "cell_type": "markdown",
   "metadata": {},
   "source": [
    "## Generating predictions on our trained model"
   ]
  },
  {
   "cell_type": "code",
   "execution_count": 20,
   "metadata": {},
   "outputs": [],
   "source": [
    "predictions = combined_model.predict([description_bow_test, variety_test] + [test_embed])"
   ]
  },
  {
   "cell_type": "markdown",
   "metadata": {},
   "source": [
    "## Compare predictions with actual value for the first few items in our test dataset"
   ]
  },
  {
   "cell_type": "code",
   "execution_count": 21,
   "metadata": {},
   "outputs": [
    {
     "name": "stdout",
     "output_type": "stream",
     "text": [
      "While aromatically subdued, this is a refreshing, easy-drinking white blend, with pleasant lemon and apple flavors. A hint of orange peel and a brisk, lime-accented acidity highlight the midpalate. Drink now.\n",
      "Predicted Price:  13.683121 Actual Price:  10.0 \n",
      "\n",
      "A new product from the Tommasi family (celebrated for its Amarone and other hearty red wines), this is light and fresh, with aromas of citrus, stone fruit and white flowers.\n",
      "Predicted Price:  14.357279 Actual Price:  13.0 \n",
      "\n",
      "From Italian tenor Andrea Bocelli and his family (vintners in Tuscany for 130 years) comes this bright, cheerful sparkler. It shows crisp acidity, ease, tonic effervescence and overall harmony.\n",
      "Predicted Price:  10.050094 Actual Price:  19.0 \n",
      "\n",
      "“Bolle,” which is Italian for “bubbles,” plays up its cheerful and playful side with bright aromas of citrus, peach, passion fruit and green apple. It washes down easily thanks to the wine's natural acidity.\n",
      "Predicted Price:  7.1370635 Actual Price:  15.0 \n",
      "\n",
      "Pale red in color, this fruity rosé was one of the originals in the current pink Vinho Verde trend. It is still one of the best. It has a lively, ripe strawberry note accompanied by a touch of caramel and bright acidity.\n",
      "Predicted Price:  13.071145 Actual Price:  10.0 \n",
      "\n",
      "This wine smells subtly of hickory and resin but is otherwise neutral on the nose. It feels creamy, smooth and woody, with oak leading the flavor profile, with other notes of melon and honey. This is a plump, oaky, honeyed style of Chardonnay.\n",
      "Predicted Price:  23.106493 Actual Price:  14.0 \n",
      "\n",
      "Notes of cedar and violet meld with a ripe, juicy black-fruit flavor in this bold, deeply concentrated Cabernet. Softer and riper than the Rezerva, it has a slightly grapey midpalate. It's full-bodied in style, with a frame of lush, furry tannins.\n",
      "Predicted Price:  43.85795 Actual Price:  9.0 \n",
      "\n",
      "With flavors of buttered toast, vanilla, sweet mango and orange jam flavors, this is as rich, ripe and oaky as they come. Finishing with a honeyed accent, it's made to appeal to consumer's who enjoy the popular style.\n",
      "Predicted Price:  22.854666 Actual Price:  23.0 \n",
      "\n",
      "This is mentholated and spicy, with a brandied cherry note as the dominant aroma. Tight but not too severe, it would pair well with meat. Its flavors of raspberry and dry plum are tasty, and the finish hits hard with tightness featuring dry raspberry and cherry skin. A blend of Cabernet Sauvignon, Cab Franc, Merlot and Malbec.\n",
      "Predicted Price:  19.661966 Actual Price:  35.0 \n",
      "\n",
      "Cool and green smelling, with briny notes and whiffs of green pepper and sea foam, this shows intensity, while the flavors veer toward lime, passion fruit and green herb. It's nervy and tasty on the finish.\n",
      "Predicted Price:  11.388911 Actual Price:  16.0 \n",
      "\n",
      "On the nose, there are cider, oak and baked corn notes. The palate is full of oak and resin flavors that prevent the fruit from emerging immediately. It tastes of hickory, apple and melon on the palate and finish.\n",
      "Predicted Price:  24.228235 Actual Price:  22.0 \n",
      "\n",
      "This is elaborate, but too soft for a great Napa Cabernet. That absence of structure accentuates its ripeness, giving it tastes of candied cherry and licorice. On the plus side, it's dry and smooth, with lots of smoky new French oak. Drink now.\n",
      "Predicted Price:  76.11724 Actual Price:  25.0 \n",
      "\n",
      "Although it's not very aromatic, the nose on this wine is easygoing, with mild peach and apple aromas. It feels fresh and medium bodied, with apple, peach and melony flavors, the latter perhaps due to the blend's 14% white Carmenère. It shows mellow oak notes and latent acidity on the finish.\n",
      "Predicted Price:  21.57949 Actual Price:  10.0 \n",
      "\n",
      "The underlying wine here is fine, crisp and minerally, with green apple fruit. Lots of new oak, however, sticks out, in the form of buttered toast and butterscotch.\n",
      "Predicted Price:  47.59995 Actual Price:  34.0 \n",
      "\n",
      "This may be a little sweet, hot and heavy, but it has such rich flavors of berry, currant, spice and mocha that it's easy to drink with ribs, chicken, burgers or vegetarian lasagna.\n",
      "Predicted Price:  20.728733 Actual Price:  29.0 \n",
      "\n",
      "You'll find good, ripe and savory flavors of blackberry, currant and spice. A touch of oak and a sweet licorice note give this 100% Cabernet a candied appeal. It can't quite escape its rustic mouthfeel, but it's a nice glass of red wine.\n",
      "Predicted Price:  42.091408 Actual Price:  23.0 \n",
      "\n",
      "This is the first vintage of this wine to include estate fruit, along with fruit from Klipsun, Bacchus and Red Willow. A complex medley of herb and spice aromas accented by purple flowers is followed by bold yet still refined dark-fruit flavors that linger on the finish. It has the tannin to go the distance. Best after 2020.\n",
      "Predicted Price:  62.27015 Actual Price:  60.0 \n",
      "\n",
      "Prune, raisin and gamy black-fruit aromas fold in a note of iodine. This Uco Valley Malbec features tough but manageable tannins in front of a savory tasting palate with roasted plum and berry flavors. A note of salt lends complexity to a rubbery, tannic finish. Drink through 2023.\n",
      "Predicted Price:  39.831573 Actual Price:  39.0 \n",
      "\n",
      "This is a darkly fruity and spicy wine from a site overlooking the Marin Coastal range, often shrouded in fog. Planted to five clones, the site provides plenty of cardamom, clove, forest floor and black tea while allowing for a wildness of plum tart and crusty bread. The oak imprint is light.\n",
      "Predicted Price:  73.64102 Actual Price:  49.0 \n",
      "\n",
      "Concentrated boysenberry and blackberry flavors give this dry and full-bodied wine a lot to like. They melt in the mouth and seem to coat the tongue with a ripeness that's rich but not sweet. Throw in dark chocolate, black currant and a creamy in mouthfeel, and it's an outstanding wine.\n",
      "Predicted Price:  30.293474 Actual Price:  40.0 \n",
      "\n",
      "Velvety and showing a bite of oak, this wine blends grapes from Spring Hill Vineyard and Nobles Vineyard, with a small addition from Horseshoe Bend, a coastal site that contributes earthy salinity. Bright red fruit is layered and succulent, with an underlying richness that contrasts against the sizzling acidity.\n",
      "Predicted Price:  44.6724 Actual Price:  35.0 \n",
      "\n",
      "Dark berry, blue flower, brown spice, espresso and balsamic aromas take shape in the glass. The structured palate offers black cherry, clove, coffee and licorice alongside close-grained tannins that give the finish a youthful grip. Drink 2019–2028.\n",
      "Predicted Price:  74.442604 Actual Price:  75.0 \n",
      "\n",
      "This is a terrific Chardonnay at a great price, offering subtle notes of toasted grain upfront, followed by bright lemon-lime fruit and crisp acidity. It's medium-bodied, so it won't overpower whatever food you serve it with and the laser beam of citrusy acidity on the finish is wrapped in a gauzy sheath of pleasant nuttiness. Drink now–2020, possibly longer.\n",
      "Predicted Price:  35.024696 Actual Price:  21.0 \n",
      "\n",
      "Concentrated aromas of blackberry and iodine are moderately complex. A tight layered palate with juicy acidity propels toasty yet bright flavors of black cherry and plum towards a finish with juicy acidity and natural spicy flavors. Drink through 2021.\n",
      "Predicted Price:  32.23911 Actual Price:  36.0 \n",
      "\n",
      "This full-bodied wine is saturated with ripe and concentrated blackberry and black-grape flavors. A layered and nicely viscous texture clings to the sides of the mouth and holds all that gorgeous fruit through the finish. It's almost all fruit, dark chocolate and a touch of clove, with little obvious oak, for a pure and memorable character.\n",
      "Predicted Price:  31.202011 Actual Price:  32.0 \n",
      "\n",
      "Another good example of how Lake County grows excellent big reds. Delicious, rich, almost chocolaty, this nevertheless dry wine is packed with flavor. It's concentrated, very smooth despite massive tannins and just a pleasure to taste. Tempting now, but best after 2020.\n",
      "Predicted Price:  23.758106 Actual Price:  20.0 \n",
      "\n",
      "Black currant stars in this mountain wine, juicy and brushy in big, pillowy tannin. Still tightly wound, it shows complexity and plenty of natural structure, begging for more time in the bottle to allow for the gunpowder, smoky oak and dark, lush black fruit to marry further. It should show best 2020 through 2023.\n",
      "Predicted Price:  148.95503 Actual Price:  65.0 \n",
      "\n",
      "Fresh apricot, melon and grapefruit abound from nose to finish in this brisk yet delectably fruity Riesling. It's dry and lithe in body yet penetrating and juicy. Zesty lime acidity lingers brightly on the finish.\n",
      "Predicted Price:  34.524307 Actual Price:  34.0 \n",
      "\n",
      "This balanced, rich wine is produced by a family company dating to the 19th century. It has tannins, signs of wood aging and layers of black fruits. Still young, it will develop well into a solid, concentrated wine. Drink from 2020.\n",
      "Predicted Price:  18.297495 Actual Price:  16.0 \n",
      "\n",
      "Dark and fruity, this juicy wine is packed with black cherry and highlighted with tobacco and coffee. The tannins are substantial, and hint at clean earth. It's big and full through the middle, but tails off a bit in the finish.\n",
      "Predicted Price:  36.48348 Actual Price:  75.0 \n",
      "\n",
      "This partnership between the Rhône's Michel Chapoutier and his American importer seems remarkably consistent. Peppery clove aromas presage a medium-bodied, silky wine that combines spice with black olives on the midpalate. It's long, finely textured and espresso-tinged on the finish.\n",
      "Predicted Price:  45.273273 Actual Price:  60.0 \n",
      "\n",
      "Zesty lime and green melon notes resonate throughout this ethereally light but scintillating dry Riesling. Dusty mineral and pollen notes lend an earthen dimension to crisp, green plum and herb on the palate. It's spine tingling and revitalizing yet lingers persistently on the finish.\n",
      "Predicted Price:  33.287254 Actual Price:  54.0 \n",
      "\n",
      "A lavish oak component works well in this dark, intense wine to enhance the concentrated blackberry and black cherry flavors. Full-bodied and richly tannic in texture, the wine is very showy and delicious.\n",
      "Predicted Price:  26.239561 Actual Price:  26.0 \n",
      "\n",
      "This gentle, complex white offers lovingly crafted waves of tropical lychee and golden-apple minerality, with bites of wet stone, gravel and lemon. Balanced in acidity and a lightness of being, it's meant for the table or kitchen, to sip happily while making a meal.\n",
      "Predicted Price:  19.647402 Actual Price:  30.0 \n",
      "\n",
      "A blend of Merlot (56%) and Cabernet Franc, this wine opens with aromas of flowers, huckleberry, cardamom and green herbs, along with light barrel accents. The flavors are dense and rich but far from over the top, supported by chewy tannins and a fruit-filled finish that sails into the distance. Best after 2020.\n",
      "Predicted Price:  54.481853 Actual Price:  64.0 \n",
      "\n",
      "It's good to see this Margaret River stalwart return to the States. The 2015 DJL is a slightly nutty, toasty wine, plump and silky in texture. Pear, melon, vanilla and citrus notes finish long.\n",
      "Predicted Price:  33.013363 Actual Price:  20.0 \n",
      "\n",
      "The wine has powerful tannins which are balanced with equally rich fruit. It is firm, in the Saint-Estèphe style, while never losing sight of a rich fruity future. The wine, from an estate at the heart of the Pez plateau, will develop well. Drink from 2024.\n",
      "Predicted Price:  29.655989 Actual Price:  45.0 \n",
      "\n",
      "Siran is in the south of the Margaux appellation just where the gravel outcrops rise above the river. It shows its fine position in this tannic wine. It has all the black-currant fruit buried for the moment under the structure. It is a serious wine that will repay aging. Drink from 2022.\n",
      "Predicted Price:  45.5263 Actual Price:  30.0 \n",
      "\n",
      "Lovely from the first sniff on, this is packed with mineral-drenched fruit flavors. Pear flesh and skin dominate, along with suggestions of cucumber and white melon. The leesy minerality is a great palate cleanser.\n",
      "Predicted Price:  26.43218 Actual Price:  20.0 \n",
      "\n",
      "Though labeled simply Willamette Valley, the vineyard is set in the Eola Hills AVA. Complex aromas meld sassafras, Asian spices, baking spices and delicate notes of leaf and stem. The fruit is lightly brambly with an accent on raspberry flavors. The wine is well-proportioned throughout.\n",
      "Predicted Price:  41.512466 Actual Price:  90.0 \n",
      "\n"
     ]
    }
   ],
   "source": [
    "num_predictions = 40\n",
    "diff = 0\n",
    "\n",
    "for i in range(num_predictions):\n",
    "    val = predictions[i]\n",
    "    print(description_test.iloc[i])\n",
    "    print('Predicted Price: ',val[0], 'Actual Price: ', labels_test.iloc[i], '\\n')\n",
    "    diff += abs(val[0] - labels_test.iloc[i])"
   ]
  },
  {
   "cell_type": "markdown",
   "metadata": {},
   "source": [
    "## Compare the average difference between Actual price and the Model's Predicted price"
   ]
  },
  {
   "cell_type": "code",
   "execution_count": 23,
   "metadata": {},
   "outputs": [
    {
     "name": "stdout",
     "output_type": "stream",
     "text": [
      "Average Prediction Difference:  13.613453662395477\n"
     ]
    }
   ],
   "source": [
    "print('Average Prediction Difference: ', diff/num_predictions)"
   ]
  },
  {
   "cell_type": "markdown",
   "metadata": {},
   "source": [
    "## So, the average prediction difference is around 13Dollars in every bottle of wine which is really a good value to move ahead with. "
   ]
  }
 ],
 "metadata": {
  "kernelspec": {
   "display_name": "Python 3",
   "language": "python",
   "name": "python3"
  },
  "language_info": {
   "codemirror_mode": {
    "name": "ipython",
    "version": 3
   },
   "file_extension": ".py",
   "mimetype": "text/x-python",
   "name": "python",
   "nbconvert_exporter": "python",
   "pygments_lexer": "ipython3",
   "version": "3.6.10"
  }
 },
 "nbformat": 4,
 "nbformat_minor": 4
}
